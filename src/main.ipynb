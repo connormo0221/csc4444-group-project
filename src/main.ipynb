{
 "cells": [
  {
   "cell_type": "markdown",
   "metadata": {},
   "source": [
    "### List of libaries, websites, and other resources referenced for this project:\n",
    "\n",
    "Markdown Guide - Basic Syntax (for documentation): https://www.markdownguide.org/basic-syntax/ <br>\n",
    "\n",
    "OpenAI's Gym library: https://github.com/openai/gym <br>\n",
    "Gymnasium, a maintained fork of OpenAI's Gym library: https://github.com/Farama-Foundation/Gymnasium <br>\n",
    "\n",
    "nes-py, an NES emulator and OpenAI Gym interface: https://github.com/Kautenja/nes-py <br>\n",
    "gym-super-mario-bros, an OpenAI Gym environment for Super Mario Bros. using nes-py: https://github.com/Kautenja/gym-super-mario-bros <br>\n",
    "\n",
    "PyTorch, a machine learning library for Python: https://pytorch.org/ <br>\n",
    "Stable Baselines3, an RL algorithms library for PyTorch: https://github.com/DLR-RM/stable-baselines3 <br>"
   ]
  },
  {
   "cell_type": "code",
   "execution_count": 12,
   "metadata": {},
   "outputs": [
    {
     "name": "stdout",
     "output_type": "stream",
     "text": [
      "Defaulting to user installation because normal site-packages is not writeable\n",
      "Looking in indexes: https://download.pytorch.org/whl/cu121\n",
      "Requirement already satisfied: torch in c:\\users\\lane durst\\appdata\\roaming\\python\\python38\\site-packages (2.2.2+cu121)\n",
      "Requirement already satisfied: torchvision in c:\\users\\lane durst\\appdata\\roaming\\python\\python38\\site-packages (0.17.2+cu121)\n",
      "Requirement already satisfied: torchaudio in c:\\users\\lane durst\\appdata\\roaming\\python\\python38\\site-packages (2.2.2+cu121)\n",
      "Requirement already satisfied: sympy in c:\\users\\lane durst\\appdata\\roaming\\python\\python38\\site-packages (from torch) (1.12)\n",
      "Requirement already satisfied: typing-extensions>=4.8.0 in c:\\users\\lane durst\\appdata\\roaming\\python\\python38\\site-packages (from torch) (4.11.0)\n",
      "Requirement already satisfied: jinja2 in c:\\users\\lane durst\\appdata\\roaming\\python\\python38\\site-packages (from torch) (3.1.3)\n",
      "Requirement already satisfied: networkx in c:\\users\\lane durst\\appdata\\roaming\\python\\python38\\site-packages (from torch) (3.0)\n",
      "Requirement already satisfied: fsspec in c:\\users\\lane durst\\appdata\\roaming\\python\\python38\\site-packages (from torch) (2023.4.0)\n",
      "Requirement already satisfied: filelock in c:\\users\\lane durst\\appdata\\roaming\\python\\python38\\site-packages (from torch) (3.9.0)\n",
      "Requirement already satisfied: pillow!=8.3.*,>=5.3.0 in c:\\users\\lane durst\\appdata\\roaming\\python\\python38\\site-packages (from torchvision) (10.2.0)\n",
      "Requirement already satisfied: numpy in c:\\users\\lane durst\\appdata\\roaming\\python\\python38\\site-packages (from torchvision) (1.24.4)\n",
      "Requirement already satisfied: MarkupSafe>=2.0 in c:\\users\\lane durst\\appdata\\roaming\\python\\python38\\site-packages (from jinja2->torch) (2.1.5)\n",
      "Requirement already satisfied: mpmath>=0.19 in c:\\users\\lane durst\\appdata\\roaming\\python\\python38\\site-packages (from sympy->torch) (1.3.0)\n",
      "Note: you may need to restart the kernel to use updated packages.\n"
     ]
    },
    {
     "name": "stderr",
     "output_type": "stream",
     "text": [
      "WARNING: You are using pip version 21.1.1; however, version 24.0 is available.\n",
      "You should consider upgrading via the 'c:\\Program Files\\Python38\\python.exe -m pip install --upgrade pip' command.\n"
     ]
    },
    {
     "name": "stdout",
     "output_type": "stream",
     "text": [
      "Defaulting to user installation because normal site-packages is not writeable\n",
      "Requirement already satisfied: stable-baselines3 in c:\\users\\lane durst\\appdata\\roaming\\python\\python38\\site-packages (2.3.0)\n",
      "Requirement already satisfied: gymnasium<0.30,>=0.28.1 in c:\\users\\lane durst\\appdata\\roaming\\python\\python38\\site-packages (from stable-baselines3) (0.29.1)\n",
      "Requirement already satisfied: cloudpickle in c:\\users\\lane durst\\appdata\\roaming\\python\\python38\\site-packages (from stable-baselines3) (1.3.0)\n",
      "Requirement already satisfied: torch>=1.13 in c:\\users\\lane durst\\appdata\\roaming\\python\\python38\\site-packages (from stable-baselines3) (2.2.2+cu121)\n",
      "Requirement already satisfied: matplotlib in c:\\users\\lane durst\\appdata\\roaming\\python\\python38\\site-packages (from stable-baselines3) (3.7.5)\n",
      "Requirement already satisfied: pandas in c:\\users\\lane durst\\appdata\\roaming\\python\\python38\\site-packages (from stable-baselines3) (2.0.3)\n",
      "Requirement already satisfied: numpy>=1.20 in c:\\users\\lane durst\\appdata\\roaming\\python\\python38\\site-packages (from stable-baselines3) (1.24.4)\n",
      "Requirement already satisfied: typing-extensions>=4.3.0 in c:\\users\\lane durst\\appdata\\roaming\\python\\python38\\site-packages (from gymnasium<0.30,>=0.28.1->stable-baselines3) (4.11.0)\n",
      "Requirement already satisfied: farama-notifications>=0.0.1 in c:\\users\\lane durst\\appdata\\roaming\\python\\python38\\site-packages (from gymnasium<0.30,>=0.28.1->stable-baselines3) (0.0.4)\n",
      "Requirement already satisfied: importlib-metadata>=4.8.0 in c:\\users\\lane durst\\appdata\\roaming\\python\\python38\\site-packages (from gymnasium<0.30,>=0.28.1->stable-baselines3) (7.1.0)\n",
      "Requirement already satisfied: zipp>=0.5 in c:\\users\\lane durst\\appdata\\roaming\\python\\python38\\site-packages (from importlib-metadata>=4.8.0->gymnasium<0.30,>=0.28.1->stable-baselines3) (3.18.1)\n",
      "Requirement already satisfied: jinja2 in c:\\users\\lane durst\\appdata\\roaming\\python\\python38\\site-packages (from torch>=1.13->stable-baselines3) (3.1.3)\n",
      "Requirement already satisfied: networkx in c:\\users\\lane durst\\appdata\\roaming\\python\\python38\\site-packages (from torch>=1.13->stable-baselines3) (3.0)\n",
      "Requirement already satisfied: filelock in c:\\users\\lane durst\\appdata\\roaming\\python\\python38\\site-packages (from torch>=1.13->stable-baselines3) (3.9.0)\n",
      "Requirement already satisfied: sympy in c:\\users\\lane durst\\appdata\\roaming\\python\\python38\\site-packages (from torch>=1.13->stable-baselines3) (1.12)\n",
      "Requirement already satisfied: fsspec in c:\\users\\lane durst\\appdata\\roaming\\python\\python38\\site-packages (from torch>=1.13->stable-baselines3) (2023.4.0)\n",
      "Requirement already satisfied: MarkupSafe>=2.0 in c:\\users\\lane durst\\appdata\\roaming\\python\\python38\\site-packages (from jinja2->torch>=1.13->stable-baselines3) (2.1.5)\n",
      "Requirement already satisfied: python-dateutil>=2.7 in c:\\users\\lane durst\\appdata\\roaming\\python\\python38\\site-packages (from matplotlib->stable-baselines3) (2.9.0.post0)\n",
      "Requirement already satisfied: contourpy>=1.0.1 in c:\\users\\lane durst\\appdata\\roaming\\python\\python38\\site-packages (from matplotlib->stable-baselines3) (1.1.1)\n",
      "Requirement already satisfied: packaging>=20.0 in c:\\users\\lane durst\\appdata\\roaming\\python\\python38\\site-packages (from matplotlib->stable-baselines3) (24.0)\n",
      "Requirement already satisfied: pillow>=6.2.0 in c:\\users\\lane durst\\appdata\\roaming\\python\\python38\\site-packages (from matplotlib->stable-baselines3) (10.2.0)\n",
      "Requirement already satisfied: cycler>=0.10 in c:\\users\\lane durst\\appdata\\roaming\\python\\python38\\site-packages (from matplotlib->stable-baselines3) (0.12.1)\n",
      "Requirement already satisfied: pyparsing>=2.3.1 in c:\\users\\lane durst\\appdata\\roaming\\python\\python38\\site-packages (from matplotlib->stable-baselines3) (3.1.2)\n",
      "Requirement already satisfied: kiwisolver>=1.0.1 in c:\\users\\lane durst\\appdata\\roaming\\python\\python38\\site-packages (from matplotlib->stable-baselines3) (1.4.5)\n",
      "Requirement already satisfied: fonttools>=4.22.0 in c:\\users\\lane durst\\appdata\\roaming\\python\\python38\\site-packages (from matplotlib->stable-baselines3) (4.51.0)\n",
      "Requirement already satisfied: importlib-resources>=3.2.0 in c:\\users\\lane durst\\appdata\\roaming\\python\\python38\\site-packages (from matplotlib->stable-baselines3) (6.4.0)\n",
      "Requirement already satisfied: six>=1.5 in c:\\users\\lane durst\\appdata\\roaming\\python\\python38\\site-packages (from python-dateutil>=2.7->matplotlib->stable-baselines3) (1.16.0)\n",
      "Requirement already satisfied: tzdata>=2022.1 in c:\\users\\lane durst\\appdata\\roaming\\python\\python38\\site-packages (from pandas->stable-baselines3) (2024.1)\n",
      "Requirement already satisfied: pytz>=2020.1 in c:\\users\\lane durst\\appdata\\roaming\\python\\python38\\site-packages (from pandas->stable-baselines3) (2024.1)\n",
      "Requirement already satisfied: mpmath>=0.19 in c:\\users\\lane durst\\appdata\\roaming\\python\\python38\\site-packages (from sympy->torch>=1.13->stable-baselines3) (1.3.0)\n",
      "Note: you may need to restart the kernel to use updated packages.\n"
     ]
    },
    {
     "name": "stderr",
     "output_type": "stream",
     "text": [
      "WARNING: You are using pip version 21.1.1; however, version 24.0 is available.\n",
      "You should consider upgrading via the 'c:\\Program Files\\Python38\\python.exe -m pip install --upgrade pip' command.\n"
     ]
    }
   ],
   "source": [
    "# Install PyTorch (stable version) locally on Windows w/ GPU acceleration via pip\n",
    "%pip install torch torchvision torchaudio --index-url https://download.pytorch.org/whl/cu121\n",
    "\n",
    "# Install Stable Baselines3 library for our reinforcement learning algorithms (includes gymnasium)\n",
    "%pip install stable-baselines3"
   ]
  },
  {
   "cell_type": "markdown",
   "metadata": {},
   "source": [
    "### Note:\n",
    "\n",
    "We are using WIP branches of nes-py & gym-super-mario-bros with gymnasium compatability fixes, hence the prebuilt wheels. <br>\n",
    "nes-py: https://github.com/Kautenja/nes-py/pull/94 <br>\n",
    "gym-super-mario-bros: https://github.com/Kautenja/gym-super-mario-bros/pull/127 <br>"
   ]
  },
  {
   "cell_type": "code",
   "execution_count": 13,
   "metadata": {},
   "outputs": [
    {
     "name": "stdout",
     "output_type": "stream",
     "text": [
      "Defaulting to user installation because normal site-packages is not writeable\n",
      "Processing d:\\documents\\github\\csc4444-group-project\\src\\external\\nes_py-8.3.0-cp38-cp38-win_amd64.whl\n",
      "Requirement already satisfied: tqdm>=4.48.2 in c:\\users\\lane durst\\appdata\\roaming\\python\\python38\\site-packages (from nes-py==8.3.0) (4.66.2)\n",
      "Requirement already satisfied: gymnasium>=0.27.0 in c:\\users\\lane durst\\appdata\\roaming\\python\\python38\\site-packages (from nes-py==8.3.0) (0.29.1)\n",
      "Requirement already satisfied: numpy>=1.18.5 in c:\\users\\lane durst\\appdata\\roaming\\python\\python38\\site-packages (from nes-py==8.3.0) (1.24.4)\n",
      "Requirement already satisfied: pyglet<=1.5.21,>=1.4.0 in c:\\users\\lane durst\\appdata\\roaming\\python\\python38\\site-packages (from nes-py==8.3.0) (1.5.0)\n",
      "Requirement already satisfied: farama-notifications>=0.0.1 in c:\\users\\lane durst\\appdata\\roaming\\python\\python38\\site-packages (from gymnasium>=0.27.0->nes-py==8.3.0) (0.0.4)\n",
      "Requirement already satisfied: importlib-metadata>=4.8.0 in c:\\users\\lane durst\\appdata\\roaming\\python\\python38\\site-packages (from gymnasium>=0.27.0->nes-py==8.3.0) (7.1.0)\n",
      "Requirement already satisfied: typing-extensions>=4.3.0 in c:\\users\\lane durst\\appdata\\roaming\\python\\python38\\site-packages (from gymnasium>=0.27.0->nes-py==8.3.0) (4.11.0)\n",
      "Requirement already satisfied: cloudpickle>=1.2.0 in c:\\users\\lane durst\\appdata\\roaming\\python\\python38\\site-packages (from gymnasium>=0.27.0->nes-py==8.3.0) (1.3.0)\n",
      "Requirement already satisfied: zipp>=0.5 in c:\\users\\lane durst\\appdata\\roaming\\python\\python38\\site-packages (from importlib-metadata>=4.8.0->gymnasium>=0.27.0->nes-py==8.3.0) (3.18.1)\n",
      "Requirement already satisfied: future in c:\\users\\lane durst\\appdata\\roaming\\python\\python38\\site-packages (from pyglet<=1.5.21,>=1.4.0->nes-py==8.3.0) (1.0.0)\n",
      "Requirement already satisfied: colorama in c:\\users\\lane durst\\appdata\\roaming\\python\\python38\\site-packages (from tqdm>=4.48.2->nes-py==8.3.0) (0.4.6)\n",
      "nes-py is already installed with the same version as the provided wheel. Use --force-reinstall to force an installation of the wheel.\n",
      "Note: you may need to restart the kernel to use updated packages.\n"
     ]
    },
    {
     "name": "stderr",
     "output_type": "stream",
     "text": [
      "WARNING: You are using pip version 21.1.1; however, version 24.0 is available.\n",
      "You should consider upgrading via the 'c:\\Program Files\\Python38\\python.exe -m pip install --upgrade pip' command.\n"
     ]
    },
    {
     "name": "stdout",
     "output_type": "stream",
     "text": [
      "Defaulting to user installation because normal site-packages is not writeable\n",
      "Processing d:\\documents\\github\\csc4444-group-project\\src\\external\\gym_super_mario_bros-7.4.0-py3-none-any.whl\n",
      "Requirement already satisfied: nes-py>=8.1.4 in c:\\users\\lane durst\\appdata\\roaming\\python\\python38\\site-packages (from gym-super-mario-bros==7.4.0) (8.3.0)\n",
      "Requirement already satisfied: pyglet<=1.5.21,>=1.4.0 in c:\\users\\lane durst\\appdata\\roaming\\python\\python38\\site-packages (from nes-py>=8.1.4->gym-super-mario-bros==7.4.0) (1.5.0)\n",
      "Requirement already satisfied: gymnasium>=0.27.0 in c:\\users\\lane durst\\appdata\\roaming\\python\\python38\\site-packages (from nes-py>=8.1.4->gym-super-mario-bros==7.4.0) (0.29.1)\n",
      "Requirement already satisfied: numpy>=1.18.5 in c:\\users\\lane durst\\appdata\\roaming\\python\\python38\\site-packages (from nes-py>=8.1.4->gym-super-mario-bros==7.4.0) (1.24.4)\n",
      "Requirement already satisfied: tqdm>=4.48.2 in c:\\users\\lane durst\\appdata\\roaming\\python\\python38\\site-packages (from nes-py>=8.1.4->gym-super-mario-bros==7.4.0) (4.66.2)\n",
      "Requirement already satisfied: typing-extensions>=4.3.0 in c:\\users\\lane durst\\appdata\\roaming\\python\\python38\\site-packages (from gymnasium>=0.27.0->nes-py>=8.1.4->gym-super-mario-bros==7.4.0) (4.11.0)\n",
      "Requirement already satisfied: cloudpickle>=1.2.0 in c:\\users\\lane durst\\appdata\\roaming\\python\\python38\\site-packages (from gymnasium>=0.27.0->nes-py>=8.1.4->gym-super-mario-bros==7.4.0) (1.3.0)\n",
      "Requirement already satisfied: farama-notifications>=0.0.1 in c:\\users\\lane durst\\appdata\\roaming\\python\\python38\\site-packages (from gymnasium>=0.27.0->nes-py>=8.1.4->gym-super-mario-bros==7.4.0) (0.0.4)\n",
      "Requirement already satisfied: importlib-metadata>=4.8.0 in c:\\users\\lane durst\\appdata\\roaming\\python\\python38\\site-packages (from gymnasium>=0.27.0->nes-py>=8.1.4->gym-super-mario-bros==7.4.0) (7.1.0)\n",
      "Requirement already satisfied: zipp>=0.5 in c:\\users\\lane durst\\appdata\\roaming\\python\\python38\\site-packages (from importlib-metadata>=4.8.0->gymnasium>=0.27.0->nes-py>=8.1.4->gym-super-mario-bros==7.4.0) (3.18.1)\n",
      "Requirement already satisfied: future in c:\\users\\lane durst\\appdata\\roaming\\python\\python38\\site-packages (from pyglet<=1.5.21,>=1.4.0->nes-py>=8.1.4->gym-super-mario-bros==7.4.0) (1.0.0)\n",
      "Requirement already satisfied: colorama in c:\\users\\lane durst\\appdata\\roaming\\python\\python38\\site-packages (from tqdm>=4.48.2->nes-py>=8.1.4->gym-super-mario-bros==7.4.0) (0.4.6)\n",
      "gym-super-mario-bros is already installed with the same version as the provided wheel. Use --force-reinstall to force an installation of the wheel.\n",
      "Note: you may need to restart the kernel to use updated packages.\n"
     ]
    },
    {
     "name": "stderr",
     "output_type": "stream",
     "text": [
      "WARNING: You are using pip version 21.1.1; however, version 24.0 is available.\n",
      "You should consider upgrading via the 'c:\\Program Files\\Python38\\python.exe -m pip install --upgrade pip' command.\n"
     ]
    }
   ],
   "source": [
    "# Install prebuilt wheels for nes-py v8.3.0 & gym-super-mario-bros v7.4.0\n",
    "%pip install ./external/nes_py-8.3.0-cp38-cp38-win_amd64.whl\n",
    "%pip install ./external/gym_super_mario_bros-7.4.0-py3-none-any.whl"
   ]
  },
  {
   "cell_type": "markdown",
   "metadata": {},
   "source": [
    "### Code"
   ]
  },
  {
   "cell_type": "code",
   "execution_count": 41,
   "metadata": {},
   "outputs": [
    {
     "name": "stderr",
     "output_type": "stream",
     "text": [
      "C:\\Users\\Lane Durst\\AppData\\Roaming\\Python\\Python38\\site-packages\\gymnasium\\envs\\registration.py:513: DeprecationWarning: \u001b[33mWARN: The environment SuperMarioBros-v0 is out of date. You should consider upgrading to version `v3`.\u001b[0m\n",
      "  logger.deprecation(\n"
     ]
    },
    {
     "ename": "TypeError",
     "evalue": "__init__() got an unexpected keyword argument 'render_mode' was raised from the environment creator for SuperMarioBros-v0 with kwargs ({'rom_mode': 'vanilla', 'render_mode': 'human'})",
     "output_type": "error",
     "traceback": [
      "\u001b[1;31m---------------------------------------------------------------------------\u001b[0m",
      "\u001b[1;31mTypeError\u001b[0m                                 Traceback (most recent call last)",
      "File \u001b[1;32m~\\AppData\\Roaming\\Python\\Python38\\site-packages\\gymnasium\\envs\\registration.py:802\u001b[0m, in \u001b[0;36mmake\u001b[1;34m(id, max_episode_steps, autoreset, apply_api_compatibility, disable_env_checker, **kwargs)\u001b[0m\n\u001b[0;32m    801\u001b[0m \u001b[38;5;28;01mtry\u001b[39;00m:\n\u001b[1;32m--> 802\u001b[0m     env \u001b[38;5;241m=\u001b[39m \u001b[43menv_creator\u001b[49m\u001b[43m(\u001b[49m\u001b[38;5;241;43m*\u001b[39;49m\u001b[38;5;241;43m*\u001b[39;49m\u001b[43menv_spec_kwargs\u001b[49m\u001b[43m)\u001b[49m\n\u001b[0;32m    803\u001b[0m \u001b[38;5;28;01mexcept\u001b[39;00m \u001b[38;5;167;01mTypeError\u001b[39;00m \u001b[38;5;28;01mas\u001b[39;00m e:\n",
      "\u001b[1;31mTypeError\u001b[0m: __init__() got an unexpected keyword argument 'render_mode'",
      "\nDuring handling of the above exception, another exception occurred:\n",
      "\u001b[1;31mTypeError\u001b[0m                                 Traceback (most recent call last)",
      "Cell \u001b[1;32mIn[41], line 6\u001b[0m\n\u001b[0;32m      3\u001b[0m \u001b[38;5;28;01mfrom\u001b[39;00m \u001b[38;5;21;01mnes_py\u001b[39;00m\u001b[38;5;21;01m.\u001b[39;00m\u001b[38;5;21;01mwrappers\u001b[39;00m \u001b[38;5;28;01mimport\u001b[39;00m JoypadSpace\n\u001b[0;32m      4\u001b[0m \u001b[38;5;28;01mfrom\u001b[39;00m \u001b[38;5;21;01mgym_super_mario_bros\u001b[39;00m\u001b[38;5;21;01m.\u001b[39;00m\u001b[38;5;21;01mactions\u001b[39;00m \u001b[38;5;28;01mimport\u001b[39;00m SIMPLE_MOVEMENT\n\u001b[1;32m----> 6\u001b[0m env \u001b[38;5;241m=\u001b[39m \u001b[43mgym_super_mario_bros\u001b[49m\u001b[38;5;241;43m.\u001b[39;49m\u001b[43mmake\u001b[49m\u001b[43m(\u001b[49m\u001b[38;5;124;43m\"\u001b[39;49m\u001b[38;5;124;43mSuperMarioBros-v0\u001b[39;49m\u001b[38;5;124;43m\"\u001b[39;49m\u001b[43m,\u001b[49m\u001b[43m \u001b[49m\u001b[43mrender_mode\u001b[49m\u001b[38;5;241;43m=\u001b[39;49m\u001b[38;5;124;43m\"\u001b[39;49m\u001b[38;5;124;43mhuman\u001b[39;49m\u001b[38;5;124;43m\"\u001b[39;49m\u001b[43m)\u001b[49m \u001b[38;5;66;03m# Make gym environment with SMB1 in standard ROM mode\u001b[39;00m\n\u001b[0;32m      7\u001b[0m env \u001b[38;5;241m=\u001b[39m JoypadSpace(env, SIMPLE_MOVEMENT) \u001b[38;5;66;03m# Set joypad wrapper; restrict to SIMPLE_MOVEMENT (only 7 actions)\u001b[39;00m\n",
      "File \u001b[1;32m~\\AppData\\Roaming\\Python\\Python38\\site-packages\\gymnasium\\envs\\registration.py:814\u001b[0m, in \u001b[0;36mmake\u001b[1;34m(id, max_episode_steps, autoreset, apply_api_compatibility, disable_env_checker, **kwargs)\u001b[0m\n\u001b[0;32m    808\u001b[0m         \u001b[38;5;28;01mraise\u001b[39;00m error\u001b[38;5;241m.\u001b[39mError(\n\u001b[0;32m    809\u001b[0m             \u001b[38;5;124mf\u001b[39m\u001b[38;5;124m\"\u001b[39m\u001b[38;5;124mYou passed render_mode=\u001b[39m\u001b[38;5;124m'\u001b[39m\u001b[38;5;124mhuman\u001b[39m\u001b[38;5;124m'\u001b[39m\u001b[38;5;124m although \u001b[39m\u001b[38;5;132;01m{\u001b[39;00menv_spec\u001b[38;5;241m.\u001b[39mid\u001b[38;5;132;01m}\u001b[39;00m\u001b[38;5;124m doesn\u001b[39m\u001b[38;5;124m'\u001b[39m\u001b[38;5;124mt implement human-rendering natively. \u001b[39m\u001b[38;5;124m\"\u001b[39m\n\u001b[0;32m    810\u001b[0m             \u001b[38;5;124m\"\u001b[39m\u001b[38;5;124mGym tried to apply the HumanRendering wrapper but it looks like your environment is using the old \u001b[39m\u001b[38;5;124m\"\u001b[39m\n\u001b[0;32m    811\u001b[0m             \u001b[38;5;124m\"\u001b[39m\u001b[38;5;124mrendering API, which is not supported by the HumanRendering wrapper.\u001b[39m\u001b[38;5;124m\"\u001b[39m\n\u001b[0;32m    812\u001b[0m         ) \u001b[38;5;28;01mfrom\u001b[39;00m \u001b[38;5;21;01me\u001b[39;00m\n\u001b[0;32m    813\u001b[0m     \u001b[38;5;28;01melse\u001b[39;00m:\n\u001b[1;32m--> 814\u001b[0m         \u001b[38;5;28;01mraise\u001b[39;00m \u001b[38;5;28mtype\u001b[39m(e)(\n\u001b[0;32m    815\u001b[0m             \u001b[38;5;124mf\u001b[39m\u001b[38;5;124m\"\u001b[39m\u001b[38;5;132;01m{\u001b[39;00me\u001b[38;5;132;01m}\u001b[39;00m\u001b[38;5;124m was raised from the environment creator for \u001b[39m\u001b[38;5;132;01m{\u001b[39;00menv_spec\u001b[38;5;241m.\u001b[39mid\u001b[38;5;132;01m}\u001b[39;00m\u001b[38;5;124m with kwargs (\u001b[39m\u001b[38;5;132;01m{\u001b[39;00menv_spec_kwargs\u001b[38;5;132;01m}\u001b[39;00m\u001b[38;5;124m)\u001b[39m\u001b[38;5;124m\"\u001b[39m\n\u001b[0;32m    816\u001b[0m         )\n\u001b[0;32m    818\u001b[0m \u001b[38;5;66;03m# Set the minimal env spec for the environment.\u001b[39;00m\n\u001b[0;32m    819\u001b[0m env\u001b[38;5;241m.\u001b[39munwrapped\u001b[38;5;241m.\u001b[39mspec \u001b[38;5;241m=\u001b[39m EnvSpec(\n\u001b[0;32m    820\u001b[0m     \u001b[38;5;28mid\u001b[39m\u001b[38;5;241m=\u001b[39menv_spec\u001b[38;5;241m.\u001b[39mid,\n\u001b[0;32m    821\u001b[0m     entry_point\u001b[38;5;241m=\u001b[39menv_spec\u001b[38;5;241m.\u001b[39mentry_point,\n\u001b[1;32m   (...)\u001b[0m\n\u001b[0;32m    831\u001b[0m     vector_entry_point\u001b[38;5;241m=\u001b[39menv_spec\u001b[38;5;241m.\u001b[39mvector_entry_point,\n\u001b[0;32m    832\u001b[0m )\n",
      "\u001b[1;31mTypeError\u001b[0m: __init__() got an unexpected keyword argument 'render_mode' was raised from the environment creator for SuperMarioBros-v0 with kwargs ({'rom_mode': 'vanilla', 'render_mode': 'human'})"
     ]
    }
   ],
   "source": [
    "# Import libraries\n",
    "import gym_super_mario_bros\n",
    "from nes_py.wrappers import JoypadSpace\n",
    "from gym_super_mario_bros.actions import SIMPLE_MOVEMENT\n",
    "\n",
    "env = gym_super_mario_bros.make(\"SuperMarioBros-v0\") # Make gym environment with SMB1 in standard ROM mode\n",
    "env = JoypadSpace(env, SIMPLE_MOVEMENT) # Set joypad wrapper; restrict to SIMPLE_MOVEMENT (only 7 actions)"
   ]
  },
  {
   "cell_type": "code",
   "execution_count": 34,
   "metadata": {},
   "outputs": [
    {
     "ename": "TypeError",
     "evalue": "render() got an unexpected keyword argument 'render_mode'",
     "output_type": "error",
     "traceback": [
      "\u001b[1;31m---------------------------------------------------------------------------\u001b[0m",
      "\u001b[1;31mTypeError\u001b[0m                                 Traceback (most recent call last)",
      "Cell \u001b[1;32mIn[34], line 7\u001b[0m\n\u001b[0;32m      5\u001b[0m         env\u001b[38;5;241m.\u001b[39mreset()\n\u001b[0;32m      6\u001b[0m     state, reward, terminated, truncated, info \u001b[38;5;241m=\u001b[39m env\u001b[38;5;241m.\u001b[39mstep(env\u001b[38;5;241m.\u001b[39maction_space\u001b[38;5;241m.\u001b[39msample())\n\u001b[1;32m----> 7\u001b[0m     \u001b[43menv\u001b[49m\u001b[38;5;241;43m.\u001b[39;49m\u001b[43mrender\u001b[49m\u001b[43m(\u001b[49m\u001b[43mrender_mode\u001b[49m\u001b[38;5;241;43m=\u001b[39;49m\u001b[38;5;124;43m\"\u001b[39;49m\u001b[38;5;124;43mhuman\u001b[39;49m\u001b[38;5;124;43m\"\u001b[39;49m\u001b[43m)\u001b[49m\n\u001b[0;32m      8\u001b[0m env\u001b[38;5;241m.\u001b[39mclose()\n",
      "\u001b[1;31mTypeError\u001b[0m: render() got an unexpected keyword argument 'render_mode'"
     ]
    }
   ],
   "source": [
    "terminated = True\n",
    "truncated = False\n",
    "for step in range(5000):\n",
    "    if (terminated | truncated):\n",
    "        env.reset()\n",
    "    state, reward, terminated, truncated, info = env.step(env.action_space.sample())\n",
    "    env.render()\n",
    "env.close()"
   ]
  }
 ],
 "metadata": {
  "kernelspec": {
   "display_name": "Python 3",
   "language": "python",
   "name": "python3"
  },
  "language_info": {
   "codemirror_mode": {
    "name": "ipython",
    "version": 3
   },
   "file_extension": ".py",
   "mimetype": "text/x-python",
   "name": "python",
   "nbconvert_exporter": "python",
   "pygments_lexer": "ipython3",
   "version": "3.8.10"
  }
 },
 "nbformat": 4,
 "nbformat_minor": 2
}
