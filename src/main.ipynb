{
 "cells": [
  {
   "cell_type": "code",
   "execution_count": null,
   "metadata": {},
   "outputs": [],
   "source": [
    "# TEMP: Run the following commands in an external terminal for the uninstall process to work properly\n",
    "#py -3.8 -m pip uninstall stable-baselines3\n",
    "#py -3.8 -m pip uninstall gymnasium\n",
    "#py -3.8 -m pip uninstall nes-py\n",
    "#py -3.8 -m pip uninstall gym-super-mario-bros"
   ]
  },
  {
   "cell_type": "markdown",
   "metadata": {},
   "source": [
    "### List of libaries, websites, and other resources referenced for this project:\n",
    "\n",
    "Markdown Guide - Basic Syntax (for documentation): https://www.markdownguide.org/basic-syntax/ <br>\n",
    "\n",
    "OpenAI's Gym library: https://github.com/openai/gym <br>\n",
    "\n",
    "nes-py, an NES emulator and OpenAI Gym interface: https://github.com/Kautenja/nes-py <br>\n",
    "gym-super-mario-bros, an OpenAI Gym environment for Super Mario Bros. using nes-py: https://github.com/Kautenja/gym-super-mario-bros <br>\n",
    "\n",
    "PyTorch, a machine learning library for Python: https://pytorch.org/ <br>\n",
    "Stable Baselines3, an RL algorithms library for PyTorch: https://github.com/DLR-RM/stable-baselines3 <br>"
   ]
  },
  {
   "cell_type": "code",
   "execution_count": null,
   "metadata": {},
   "outputs": [],
   "source": [
    "# Install PyTorch (stable version) locally on Windows w/ GPU acceleration via pip\n",
    "%pip install torch torchvision torchaudio --index-url https://download.pytorch.org/whl/cu121"
   ]
  },
  {
   "cell_type": "code",
   "execution_count": null,
   "metadata": {},
   "outputs": [],
   "source": [
    "# Force downgrade wheel & setuptools in order for gym v21 to install properly\n",
    "%pip install wheel==0.38.4 setuptools==66.0.0\n",
    "\n",
    "# Install Stable Baselines3 library version 1.8.0 (last version to include & use gym v21)\n",
    "%pip install stable-baselines3==1.8.0 --no-cache-dir\n",
    "\n",
    "# Upgrade wheel & setuptools back to their latest versions\n",
    "%pip install --upgrade wheel setuptools"
   ]
  },
  {
   "cell_type": "code",
   "execution_count": null,
   "metadata": {},
   "outputs": [],
   "source": [
    "# Install gym-super-mario-bros (includes nes-py, requires gym v21)\n",
    "# Note: nes-py requires MSVC build tools to install\n",
    "%pip install gym-super-mario-bros"
   ]
  },
  {
   "cell_type": "markdown",
   "metadata": {},
   "source": [
    "### Code"
   ]
  },
  {
   "cell_type": "code",
   "execution_count": null,
   "metadata": {},
   "outputs": [],
   "source": [
    "# Import libraries\n",
    "import gym_super_mario_bros\n",
    "from nes_py.wrappers import JoypadSpace\n",
    "from gym_super_mario_bros.actions import SIMPLE_MOVEMENT\n",
    "\n",
    "env = gym_super_mario_bros.make(\"SuperMarioBros-v0\") # Make gym environment with SMB1 in standard ROM mode\n",
    "env = JoypadSpace(env, SIMPLE_MOVEMENT) # Set joypad wrapper; restrict to SIMPLE_MOVEMENT (only 7 actions)"
   ]
  },
  {
   "cell_type": "code",
   "execution_count": null,
   "metadata": {},
   "outputs": [],
   "source": [
    "# Default code from gym-super-mario-bros repository - will run w/ random inputs & no machine learning AI\n",
    "done = True\n",
    "for step in range(5000):\n",
    "    if done:\n",
    "        state = env.reset()\n",
    "    state, reward, done, info = env.step(env.action_space.sample())\n",
    "    env.render()\n",
    "\n",
    "env.close()"
   ]
  }
 ],
 "metadata": {
  "kernelspec": {
   "display_name": "Python 3",
   "language": "python",
   "name": "python3"
  },
  "language_info": {
   "codemirror_mode": {
    "name": "ipython",
    "version": 3
   },
   "file_extension": ".py",
   "mimetype": "text/x-python",
   "name": "python",
   "nbconvert_exporter": "python",
   "pygments_lexer": "ipython3",
   "version": "3.8.10"
  }
 },
 "nbformat": 4,
 "nbformat_minor": 2
}
