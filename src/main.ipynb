{
 "cells": [
  {
   "cell_type": "markdown",
   "metadata": {},
   "source": [
    "### List of libaries, websites, and other resources referenced for this project:\n",
    "\n",
    "Markdown Guide - Basic Syntax (for documentation): https://www.markdownguide.org/basic-syntax/ <br>\n",
    "\n",
    "OpenAI's Gym library: https://github.com/openai/gym <br>\n",
    "Gymnasium, a maintained fork of OpenAI's Gym library: https://github.com/Farama-Foundation/Gymnasium <br>\n",
    "\n",
    "nes-py, an NES emulator and OpenAI Gym interface: https://github.com/Kautenja/nes-py <br>\n",
    "gym-super-mario-bros, an OpenAI Gym environment for Super Mario Bros. using nes-py: https://github.com/Kautenja/gym-super-mario-bros <br>\n",
    "\n",
    "PyTorch, a machine learning library for Python: https://pytorch.org/ <br>\n",
    "Stable Baselines3, an RL algorithms library for PyTorch: https://github.com/DLR-RM/stable-baselines3 <br>"
   ]
  },
  {
   "cell_type": "code",
   "execution_count": null,
   "metadata": {},
   "outputs": [],
   "source": [
    "# Install PyTorch (stable version) locally on Windows w/ GPU acceleration via pip\n",
    "%pip install torch torchvision torchaudio --index-url https://download.pytorch.org/whl/cu121\n",
    "\n",
    "# Install Stable Baselines3 library for our reinforcement learning algorithms (includes gymnasium)\n",
    "%pip install stable-baselines3"
   ]
  },
  {
   "cell_type": "markdown",
   "metadata": {},
   "source": [
    "### Note:\n",
    "\n",
    "We are using WIP branches of nes-py & gym-super-mario-bros with gymnasium compatability fixes, hence the prebuilt wheels. <br>\n",
    "nes-py: https://github.com/Kautenja/nes-py/pull/94 <br>\n",
    "gym-super-mario-bros: https://github.com/Kautenja/gym-super-mario-bros/pull/127 <br>"
   ]
  },
  {
   "cell_type": "code",
   "execution_count": null,
   "metadata": {},
   "outputs": [],
   "source": [
    "# Install prebuilt wheels for nes-py v8.3.0 & gym-super-mario-bros v7.4.0\n",
    "%pip install ./external/nes_py-8.3.0-cp38-cp38-win_amd64.whl\n",
    "%pip install ./external/gym_super_mario_bros-7.4.0-py3-none-any.whl"
   ]
  },
  {
   "cell_type": "markdown",
   "metadata": {},
   "source": [
    "### Code"
   ]
  },
  {
   "cell_type": "code",
   "execution_count": null,
   "metadata": {},
   "outputs": [],
   "source": [
    "# Import libraries\n",
    "import gym_super_mario_bros\n",
    "from nes_py.wrappers import JoypadSpace\n",
    "from gym_super_mario_bros.actions import SIMPLE_MOVEMENT\n",
    "\n",
    "env = gym_super_mario_bros.make(\"SuperMarioBros-v0\") # Make gym environment with SMB1 in standard ROM mode\n",
    "env = JoypadSpace(env, SIMPLE_MOVEMENT) # Set joypad wrapper; restrict to SIMPLE_MOVEMENT (only 7 actions)\n",
    "\n",
    "done = True\n",
    "for step in range(5000):\n",
    "    if done:\n",
    "        state = env.reset()\n",
    "    state, reward, done, info = env.step(env.action_space.sample())\n",
    "    env.render()\n",
    "\n",
    "env.close()"
   ]
  }
 ],
 "metadata": {
  "kernelspec": {
   "display_name": "Python 3",
   "language": "python",
   "name": "python3"
  },
  "language_info": {
   "codemirror_mode": {
    "name": "ipython",
    "version": 3
   },
   "file_extension": ".py",
   "mimetype": "text/x-python",
   "name": "python",
   "nbconvert_exporter": "python",
   "pygments_lexer": "ipython3",
   "version": "3.8.10"
  }
 },
 "nbformat": 4,
 "nbformat_minor": 2
}
